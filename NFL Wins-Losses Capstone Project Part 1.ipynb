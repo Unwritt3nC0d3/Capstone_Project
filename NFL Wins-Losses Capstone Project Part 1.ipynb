{
 "cells": [
  {
   "cell_type": "code",
   "execution_count": 1,
   "id": "1c8a25f4",
   "metadata": {},
   "outputs": [],
   "source": [
    "import pandas as pd\n",
    "import matplotlib.pyplot as plt\n",
    "import seaborn as sns\n",
    "import numpy as np"
   ]
  },
  {
   "cell_type": "code",
   "execution_count": 2,
   "id": "6f22edca",
   "metadata": {},
   "outputs": [
    {
     "name": "stdout",
     "output_type": "stream",
     "text": [
      "                 Player Id              Name Position  Year          Season  \\\n",
      "1   jaredzabransky/2495791  Zabransky, Jared      NaN  2007       Preseason   \n",
      "3   jaredzabransky/2495791  Zabransky, Jared      NaN  2007       Preseason   \n",
      "10      billdemory/2512778      Demory, Bill      NaN  1974  Regular Season   \n",
      "19      billdemory/2512778      Demory, Bill      NaN  1973  Regular Season   \n",
      "20      billdemory/2512778      Demory, Bill      NaN  1973  Regular Season   \n",
      "21      billdemory/2512778      Demory, Bill      NaN  1973  Regular Season   \n",
      "22      billdemory/2512778      Demory, Bill      NaN  1973  Regular Season   \n",
      "24      billdemory/2512778      Demory, Bill      NaN  1973  Regular Season   \n",
      "25      billdemory/2512778      Demory, Bill      NaN  1973  Regular Season   \n",
      "30       tomsavage/2543640       Savage, Tom       QB  2016       Preseason   \n",
      "\n",
      "    Week Game Date Home or Away Opponent Outcome  ... Yards Per Carry  \\\n",
      "1      2     08/18         Away      ARI       W  ...              --   \n",
      "3      4     08/30         Away       TB       L  ...             8.5   \n",
      "10     7     10/27         Home       LA       L  ...              --   \n",
      "19     4     10/07         Away      MIA       L  ...              --   \n",
      "20     5     10/14         Away       NE       W  ...             0.0   \n",
      "21     6     10/21         Away      PIT       L  ...            -0.5   \n",
      "22     7     10/28         Home      DEN       L  ...              --   \n",
      "24     9     11/11         Home       NE       W  ...              --   \n",
      "25    10     11/18         Away      CIN       L  ...              --   \n",
      "30     1     08/14         Away       SF       W  ...              --   \n",
      "\n",
      "    Rushing TDs Fumbles Fumbles Lost Longest Rushing Run Receptions  \\\n",
      "1            --      --           --                 NaN        NaN   \n",
      "3             0      --           --                 NaN        NaN   \n",
      "10           --      --           --                 NaN        NaN   \n",
      "19           --      --           --                 NaN        NaN   \n",
      "20            0      --           --                 NaN        NaN   \n",
      "21            0      --           --                 NaN        NaN   \n",
      "22           --      --           --                 NaN        NaN   \n",
      "24           --      --           --                 NaN        NaN   \n",
      "25           --      --           --                 NaN        NaN   \n",
      "30           --      --           --                 NaN        NaN   \n",
      "\n",
      "   Receiving Yards Yards Per Reception Longest Reception Receiving TDs  \n",
      "1              NaN                 NaN               NaN           NaN  \n",
      "3              NaN                 NaN               NaN           NaN  \n",
      "10             NaN                 NaN               NaN           NaN  \n",
      "19             NaN                 NaN               NaN           NaN  \n",
      "20             NaN                 NaN               NaN           NaN  \n",
      "21             NaN                 NaN               NaN           NaN  \n",
      "22             NaN                 NaN               NaN           NaN  \n",
      "24             NaN                 NaN               NaN           NaN  \n",
      "25             NaN                 NaN               NaN           NaN  \n",
      "30             NaN                 NaN               NaN           NaN  \n",
      "\n",
      "[10 rows x 35 columns]\n",
      "<class 'pandas.core.frame.DataFrame'>\n",
      "Index: 181442 entries, 1 to 220538\n",
      "Data columns (total 35 columns):\n",
      " #   Column                     Non-Null Count   Dtype  \n",
      "---  ------                     --------------   -----  \n",
      " 0   Player Id                  181442 non-null  object \n",
      " 1   Name                       181442 non-null  object \n",
      " 2   Position                   37611 non-null   object \n",
      " 3   Year                       181442 non-null  int64  \n",
      " 4   Season                     181442 non-null  object \n",
      " 5   Week                       181442 non-null  int64  \n",
      " 6   Game Date                  181442 non-null  object \n",
      " 7   Home or Away               181442 non-null  object \n",
      " 8   Opponent                   181442 non-null  object \n",
      " 9   Outcome                    181442 non-null  object \n",
      " 10  Score                      181442 non-null  object \n",
      " 11  Games Played               181442 non-null  int64  \n",
      " 12  Games Started              181442 non-null  object \n",
      " 13  Passes Completed           22987 non-null   object \n",
      " 14  Passes Attempted           22987 non-null   object \n",
      " 15  Completion Percentage      22987 non-null   object \n",
      " 16  Passing Yards              22987 non-null   object \n",
      " 17  Passing Yards Per Attempt  22987 non-null   object \n",
      " 18  TD Passes                  22987 non-null   object \n",
      " 19  Ints                       22987 non-null   object \n",
      " 20  Sacks                      22987 non-null   object \n",
      " 21  Sacked Yards Lost          22987 non-null   object \n",
      " 22  Passer Rating              22987 non-null   float64\n",
      " 23  Rushing Attempts           181442 non-null  object \n",
      " 24  Rushing Yards              181442 non-null  object \n",
      " 25  Yards Per Carry            181442 non-null  object \n",
      " 26  Rushing TDs                181442 non-null  object \n",
      " 27  Fumbles                    181442 non-null  object \n",
      " 28  Fumbles Lost               181442 non-null  object \n",
      " 29  Longest Rushing Run        158455 non-null  object \n",
      " 30  Receptions                 158455 non-null  object \n",
      " 31  Receiving Yards            158455 non-null  object \n",
      " 32  Yards Per Reception        158455 non-null  object \n",
      " 33  Longest Reception          158455 non-null  object \n",
      " 34  Receiving TDs              158455 non-null  object \n",
      "dtypes: float64(1), int64(3), object(31)\n",
      "memory usage: 49.8+ MB\n",
      "None\n",
      "                Year           Week  Games Played  Passer Rating\n",
      "count  181442.000000  181442.000000      181442.0   22987.000000\n",
      "mean     1997.257647       8.468993           1.0      68.619937\n",
      "std        13.806759       5.329733           0.0      40.172192\n",
      "min      1970.000000       0.000000           1.0       0.000000\n",
      "25%      1986.000000       4.000000           1.0      41.700000\n",
      "50%      1999.000000       8.000000           1.0      72.900000\n",
      "75%      2010.000000      13.000000           1.0      96.950000\n",
      "max      2016.000000      23.000000           1.0     158.300000\n"
     ]
    }
   ],
   "source": [
    "# Load the dataset\n",
    "QB_Stats = pd.read_csv(r\"/Users/bkf/Dropbox/Mac/Desktop/DS Bootcamp Files/Capstone Project/NFL Data/Game_Logs_Quarterback.csv\")  \n",
    "RB_Stats = pd.read_csv(r\"/Users/bkf/Dropbox/Mac/Desktop/DS Bootcamp Files/Capstone Project/NFL Data/Game_Logs_Runningback.csv\")  \n",
    "WRTE_Stats = pd.read_csv(r\"/Users/bkf/Dropbox/Mac/Desktop/DS Bootcamp Files/Capstone Project/NFL Data/Game_Logs_Wide_Receiver_and_Tight_End.csv\")  \n",
    "\n",
    "# Drop NaN values from each dataset individually\n",
    "QB_Stats.dropna(subset=['Passing Yards', 'Rushing Yards', 'Outcome'], inplace=True)\n",
    "RB_Stats.dropna(subset=['Rushing Yards', 'Receiving Yards', 'Outcome'], inplace=True)\n",
    "WRTE_Stats.dropna(subset=['Rushing Yards', 'Receiving Yards', 'Outcome'], inplace=True)\n",
    "\n",
    "# Combine the cleaned datasets\n",
    "df_combined = pd.concat([QB_Stats, RB_Stats, WRTE_Stats], axis=0)\n",
    "df_combined.reset_index(drop=True, inplace=True)\n",
    "\n",
    "# Keep only necessary columns (if player started or not)\n",
    "# Filter the DataFrame to keep only rows where \"Games Started\" is 1\n",
    "df_combined = df_combined[df_combined['Games Played'] == 1]\n",
    "\n",
    "# Inspect the first few rows of the cleaned and combined dataset\n",
    "print(df_combined.head(10))\n",
    "print(df_combined.info())\n",
    "print(df_combined.describe())"
   ]
  },
  {
   "cell_type": "code",
   "execution_count": 3,
   "id": "4976ee92",
   "metadata": {},
   "outputs": [
    {
     "name": "stdout",
     "output_type": "stream",
     "text": [
      "                 Player Id              Name Position  Year          Season  \\\n",
      "1   jaredzabransky/2495791  Zabransky, Jared      NaN  2007       Preseason   \n",
      "3   jaredzabransky/2495791  Zabransky, Jared      NaN  2007       Preseason   \n",
      "10      billdemory/2512778      Demory, Bill      NaN  1974  Regular Season   \n",
      "19      billdemory/2512778      Demory, Bill      NaN  1973  Regular Season   \n",
      "20      billdemory/2512778      Demory, Bill      NaN  1973  Regular Season   \n",
      "\n",
      "    Week Game Date Home or Away Opponent Outcome  ... Yards Per Carry  \\\n",
      "1      2     08/18         Away      ARI       W  ...              --   \n",
      "3      4     08/30         Away       TB       L  ...             8.5   \n",
      "10     7     10/27         Home       LA       L  ...              --   \n",
      "19     4     10/07         Away      MIA       L  ...              --   \n",
      "20     5     10/14         Away       NE       W  ...             0.0   \n",
      "\n",
      "    Rushing TDs Fumbles Fumbles Lost Longest Rushing Run Receptions  \\\n",
      "1            --      --           --                 NaN        NaN   \n",
      "3             0      --           --                 NaN        NaN   \n",
      "10           --      --           --                 NaN        NaN   \n",
      "19           --      --           --                 NaN        NaN   \n",
      "20            0      --           --                 NaN        NaN   \n",
      "\n",
      "    Receiving Yards Yards Per Reception Longest Reception Receiving TDs  \n",
      "1               NaN                 NaN               NaN           NaN  \n",
      "3               NaN                 NaN               NaN           NaN  \n",
      "10              NaN                 NaN               NaN           NaN  \n",
      "19              NaN                 NaN               NaN           NaN  \n",
      "20              NaN                 NaN               NaN           NaN  \n",
      "\n",
      "[5 rows x 35 columns]\n"
     ]
    }
   ],
   "source": [
    "# Define columns that should be converted to numeric\n",
    "numeric_columns = ['Passing Yards', 'Rushing Yards', 'Receiving Yards']\n",
    "\n",
    "# Convert only the numeric columns to numeric, skipping 'Outcome'\n",
    "df_combined[numeric_columns] = df_combined[numeric_columns].apply(pd.to_numeric, errors='coerce')\n",
    "\n",
    "# Ensure 'Outcome' remains as a string\n",
    "df_combined['Outcome'] = df_combined['Outcome'].astype(str)\n",
    "\n",
    "print(df_combined.head())\n"
   ]
  },
  {
   "cell_type": "code",
   "execution_count": 4,
   "id": "6eaa0e99",
   "metadata": {},
   "outputs": [
    {
     "name": "stdout",
     "output_type": "stream",
     "text": [
      "1     1.0\n",
      "3     0.0\n",
      "10    0.0\n",
      "19    0.0\n",
      "20    1.0\n",
      "Name: Outcome, dtype: float64\n"
     ]
    }
   ],
   "source": [
    "# Convert 'W' to 1 and 'L' to 0\n",
    "df_combined['Outcome'] = df_combined['Outcome'].map({'W': 1, 'L': 0})\n",
    "\n",
    "# Verify the conversion\n",
    "print(df_combined['Outcome'].head())\n"
   ]
  },
  {
   "cell_type": "code",
   "execution_count": 6,
   "id": "d99c0aa6",
   "metadata": {},
   "outputs": [
    {
     "name": "stdout",
     "output_type": "stream",
     "text": [
      "    Outcome  wins  losses  Win-Loss Pct\n",
      "1       1.0     1       0           1.0\n",
      "3       0.0     0       1           0.0\n",
      "10      0.0     0       1           0.0\n",
      "19      0.0     0       1           0.0\n",
      "20      1.0     1       0           1.0\n"
     ]
    }
   ],
   "source": [
    "# Create a column for Wins (where 'Outcome' is 1.0)\n",
    "df_combined['wins'] = df_combined['Outcome'].apply(lambda x: 1 if x == 1.0 else 0)\n",
    "\n",
    "# Create a column for Losses (where 'Outcome' is 0.0)\n",
    "df_combined['losses'] = df_combined['Outcome'].apply(lambda x: 1 if x == 0.0 else 0)\n",
    "\n",
    "# Calculate Win-Loss Pct\n",
    "df_combined['Win-Loss Pct'] = df_combined['wins'] / (df_combined['wins'] + df_combined['losses'])\n",
    "\n",
    "# Inspect the result\n",
    "print(df_combined[['Outcome', 'wins', 'losses', 'Win-Loss Pct']].head())\n"
   ]
  },
  {
   "cell_type": "code",
   "execution_count": 7,
   "id": "e7715ebc",
   "metadata": {},
   "outputs": [
    {
     "name": "stdout",
     "output_type": "stream",
     "text": [
      "    Games Played  Passing Yards  Rushing Yards  Receiving Yards  Outcome  \\\n",
      "1              1           19.0            NaN              NaN      1.0   \n",
      "3              1          117.0           17.0              NaN      0.0   \n",
      "10             1            NaN            NaN              NaN      0.0   \n",
      "19             1           14.0            NaN              NaN      0.0   \n",
      "20             1           11.0            0.0              NaN      1.0   \n",
      "\n",
      "    wins  losses  Win-Loss Pct  \n",
      "1      1       0           1.0  \n",
      "3      0       1           0.0  \n",
      "10     0       1           0.0  \n",
      "19     0       1           0.0  \n",
      "20     1       0           1.0  \n"
     ]
    }
   ],
   "source": [
    "# Keep only necessary columns\n",
    "df_combined = df_combined[['Games Played', 'Passing Yards', 'Rushing Yards', 'Receiving Yards', 'Outcome', 'wins', 'losses', 'Win-Loss Pct']]\n",
    "\n",
    "# Display the cleaned dataset\n",
    "print(df_combined.head())\n"
   ]
  },
  {
   "cell_type": "code",
   "execution_count": null,
   "id": "f7bf4663",
   "metadata": {},
   "outputs": [],
   "source": []
  },
  {
   "cell_type": "code",
   "execution_count": null,
   "id": "a821af18",
   "metadata": {},
   "outputs": [],
   "source": []
  }
 ],
 "metadata": {
  "kernelspec": {
   "display_name": "Python 3 (ipykernel)",
   "language": "python",
   "name": "python3"
  },
  "language_info": {
   "codemirror_mode": {
    "name": "ipython",
    "version": 3
   },
   "file_extension": ".py",
   "mimetype": "text/x-python",
   "name": "python",
   "nbconvert_exporter": "python",
   "pygments_lexer": "ipython3",
   "version": "3.11.7"
  }
 },
 "nbformat": 4,
 "nbformat_minor": 5
}
